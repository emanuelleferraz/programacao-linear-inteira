{
  "nbformat": 4,
  "nbformat_minor": 0,
  "metadata": {
    "colab": {
      "provenance": []
    },
    "kernelspec": {
      "name": "python3",
      "display_name": "Python 3"
    },
    "language_info": {
      "name": "python"
    }
  },
  "cells": [
    {
      "cell_type": "markdown",
      "source": [
        "#**ENP 012 - Programação Linear e Inteira**"
      ],
      "metadata": {
        "id": "Zq0sxnsFozya"
      }
    },
    {
      "cell_type": "markdown",
      "source": [
        "**Prova Prática**\n",
        "\n",
        "Semestre: 2023/2\n",
        "\n",
        "Valor: 30 Pontos\n",
        "\n",
        "Prof. Dr. Thiago Augusto de Oliveira Silva\n",
        "\n",
        "\n",
        "---\n",
        "\n",
        "**Instruções:**\n",
        "\n",
        "\n",
        "1.   Antes de começar os estudantes devem **fazer uma cópia** deste documento em seu próprio Drive;\n",
        "2.   A entrega deverá ser feita **via moodle** e, para tanto, os estudantes deverão fazer o download do arquivo .pynb e enviar na plataforma;\n",
        "3.   Adicionalmente os discentes deverão compartilhar o presente documento com o prof. por meio do e-mail: thiago@ufop.edu.br;\n",
        "4. Não é permitido o compartilhamento deste link com outro discente durante a prova e até a entrega do resultado final pelo professor.\n",
        "\n",
        "\n"
      ],
      "metadata": {
        "id": "QfyW-5xOpA-Z"
      }
    },
    {
      "cell_type": "markdown",
      "source": [
        "##Instalação e importação do pacote gurobipy"
      ],
      "metadata": {
        "id": "N2GYROUQn3qH"
      }
    },
    {
      "cell_type": "code",
      "execution_count": 1,
      "metadata": {
        "colab": {
          "base_uri": "https://localhost:8080/",
          "height": 0
        },
        "id": "3J8rLxzXwUVb",
        "outputId": "d04b426f-a765-42a5-bd44-87f9f1d36ec7"
      },
      "outputs": [
        {
          "output_type": "stream",
          "name": "stdout",
          "text": [
            "Collecting gurobipy\n",
            "  Downloading gurobipy-11.0.0-cp310-cp310-manylinux2014_x86_64.manylinux_2_17_x86_64.whl (13.4 MB)\n",
            "\u001b[2K     \u001b[90m━━━━━━━━━━━━━━━━━━━━━━━━━━━━━━━━━━━━━━━━\u001b[0m \u001b[32m13.4/13.4 MB\u001b[0m \u001b[31m53.4 MB/s\u001b[0m eta \u001b[36m0:00:00\u001b[0m\n",
            "\u001b[?25hInstalling collected packages: gurobipy\n",
            "Successfully installed gurobipy-11.0.0\n"
          ]
        }
      ],
      "source": [
        "#instalação do gurobi\n",
        "!pip install gurobipy"
      ]
    },
    {
      "cell_type": "code",
      "source": [
        "import gurobipy as grb"
      ],
      "metadata": {
        "id": "fIYsqQUFxKy5"
      },
      "execution_count": 2,
      "outputs": []
    },
    {
      "cell_type": "markdown",
      "source": [
        "# **Questão 1 (15 pontos)**"
      ],
      "metadata": {
        "id": "rwKR8z5OoP66"
      }
    },
    {
      "cell_type": "markdown",
      "source": [
        "**Problema do Transporte**\n",
        "\n",
        "O problema do transporte consiste em definir o fluxo de produtos que vai de um nó de oferta para um nó de demanda de forma a atender as demandas com custo mínimo de transporte. Ademais, a capacidade de oferta dos nós de origem devem ser respeitadas."
      ],
      "metadata": {
        "id": "Q52nul3NlSVK"
      }
    },
    {
      "cell_type": "markdown",
      "source": [
        "Seja:\n",
        "\n",
        "*   $I$: Conjunto de nós de origem\n",
        "*   $J$: Conjunto de nós de destino\n",
        "*   $d_j$: Demanda do nó $j$\n",
        "*   $o_i$ Oferta di  nó $i$\n",
        "*   $c_{ij}$: Custo de ir de $i$ para $j$\n",
        "*   $x_{ij}$ Fluxo saindo de $i$ para $j$\n",
        "\n",
        "Considere a seguinte formulação matemática:\n",
        "\n",
        "\\begin{eqnarray}\n",
        "\\label{of-uflp} \\mbox{Minimize} \\ & Q(x,y) = \\sum\\limits_{i \\in I} \\sum\\limits_{j \\in J}c_{ij} x_{ij}                   & \\\\\n",
        "\\nonumber \\mbox{ Sujeito a:}\n",
        "        &                                   & \\\\\n",
        "\\label{r1-tp} &  \\sum\\limits_{i \\in I} x_{ij} >= d_i   & \\forall \\quad j \\in J \\\\\n",
        "\\label{r2-tp} &  \\sum\\limits_{j \\in J} x_{ij} <= o_i   & \\forall \\quad i \\in I \\\\\n",
        "\\label{r3-uflp} &  x_{ij}  \\geq 0,  &\\forall \\quad i \\in I, j \\in J\n",
        "\\end{eqnarray}\n"
      ],
      "metadata": {
        "id": "iJyDTVbpi6uh"
      }
    },
    {
      "cell_type": "markdown",
      "source": [
        "O Código abaixo implementa o problema acima, de forma genérica em gurobi utilizando a API do Gurobipy"
      ],
      "metadata": {
        "id": "g5RPYYVXnBqn"
      }
    },
    {
      "cell_type": "code",
      "source": [
        "# Instância\n",
        "I = [1,2,3,4,5]\n",
        "J = [1,2,3,4,5,6]\n",
        "c = [ [30, 20, 24, 18, 31, 31],\n",
        "      [12, 36, 30, 24, 23, 23],\n",
        "      [8, 15, 25, 20, 17, 17],\n",
        "     [18, 5, 15, 30, 13, 13],\n",
        "     [7, 25, 15, 10, 27, 27]]\n",
        "\n",
        "d = [5, 8, 4, 10, 16, 16]\n",
        "o = [13,13,9,13,13]"
      ],
      "metadata": {
        "id": "a-aX9hPenQLx"
      },
      "execution_count": null,
      "outputs": []
    },
    {
      "cell_type": "code",
      "source": [
        "# Criação do objeto modelo\n",
        "modelo  = grb.Model('transporte')\n",
        "\n",
        "\n",
        "#criação de variáveis\n",
        "x = {} # x é um dicionário\n",
        "for i in I:\n",
        "  for j in J:\n",
        "    x[i,j] = modelo.addVar(name = f'x[{i},{j}]',vtype= grb.GRB.CONTINUOUS, lb=0)\n",
        "\n",
        "#atualização do modelo\n",
        "modelo.update()\n",
        "\n",
        "#Restrições\n",
        "for j in J:\n",
        "  modelo.addConstr(grb.quicksum(x[i,j] for i in I) >= d[j-1])\n",
        "\n",
        "#Restrições\n",
        "for i in I:\n",
        "  modelo.addConstr(grb.quicksum(x[i,j] for j in J) <= o[i-1])\n",
        "\n",
        "#objetivo\n",
        "Qx = grb.quicksum(c[i-1][j-1]*x[i,j] for i in I for j in J)\n",
        "\n",
        "modelo.setObjective(Qx, sense=grb.GRB.MINIMIZE)\n",
        "\n",
        "#execução\n",
        "modelo.optimize()\n",
        "\n",
        "#resultado\n",
        "for i in I:\n",
        "  for j in J:\n",
        "    if x[i,j].x>0.001:\n",
        "      print(f\"x[{i},{j}]={x[i,j].x}\")\n"
      ],
      "metadata": {
        "id": "tAeGzqN-nexO",
        "outputId": "312fba12-51cc-4a79-b0b2-47c5b2f2de26",
        "colab": {
          "base_uri": "https://localhost:8080/"
        }
      },
      "execution_count": null,
      "outputs": [
        {
          "output_type": "stream",
          "name": "stdout",
          "text": [
            "Gurobi Optimizer version 11.0.0 build v11.0.0rc2 (linux64 - \"Ubuntu 22.04.3 LTS\")\n",
            "\n",
            "CPU model: Intel(R) Xeon(R) CPU @ 2.20GHz, instruction set [SSE2|AVX|AVX2]\n",
            "Thread count: 1 physical cores, 2 logical processors, using up to 2 threads\n",
            "\n",
            "Optimize a model with 11 rows, 30 columns and 60 nonzeros\n",
            "Model fingerprint: 0x4d018647\n",
            "Coefficient statistics:\n",
            "  Matrix range     [1e+00, 1e+00]\n",
            "  Objective range  [5e+00, 4e+01]\n",
            "  Bounds range     [0e+00, 0e+00]\n",
            "  RHS range        [4e+00, 2e+01]\n",
            "Presolve time: 0.01s\n",
            "Presolved: 11 rows, 30 columns, 60 nonzeros\n",
            "\n",
            "Iteration    Objective       Primal Inf.    Dual Inf.      Time\n",
            "       0    0.0000000e+00   5.900000e+01   0.000000e+00      0s\n",
            "      12    9.4000000e+02   0.000000e+00   0.000000e+00      0s\n",
            "\n",
            "Solved in 12 iterations and 0.02 seconds (0.00 work units)\n",
            "Optimal objective  9.400000000e+02\n",
            "x[1,2]=5.0\n",
            "x[1,4]=6.0\n",
            "x[2,5]=7.0\n",
            "x[2,6]=6.0\n",
            "x[3,5]=9.0\n",
            "x[4,2]=3.0\n",
            "x[4,6]=10.0\n",
            "x[5,1]=5.0\n",
            "x[5,3]=4.0\n",
            "x[5,4]=4.0\n"
          ]
        }
      ]
    },
    {
      "cell_type": "markdown",
      "source": [
        "Responda:\n",
        "\n",
        "\n",
        "1.   [2 pontos] A solução ótima para a instância foi encontrada?\n",
        "2.   [2 pontos] Qual o valor da função objetivo?\n",
        "3. [2 pontos] Por onde e com qual valor o destino 5 é abastecido?\n",
        "4. [2 pontos] Inclua um novo nó de demanda, ajuste a capacidade de oferta para conseguir atendê-lo e crie os custos de transporte para esse novo nó.\n",
        "5. [2 pontos] Para essa nova instância, por onde e com qual valor o novo destino é abastecido?\n",
        "   \n",
        "\n",
        "\n"
      ],
      "metadata": {
        "id": "K56U1mBSvxIE"
      }
    },
    {
      "cell_type": "markdown",
      "source": [
        "#**Questão 2 (15 pontos)**"
      ],
      "metadata": {
        "id": "CBLAbXfoocyN"
      }
    },
    {
      "cell_type": "markdown",
      "source": [
        "Considere que a empresa possa decidir se deseja abrir ou não um nó de oferta. Para tanto, caso o nó de oferta $i \\in I$ seja aberto, será cobrado um custo fixo na função objetivo de $f_i$. Além disto, só será possível atender uma demanda a partir de $i$, caso o nó $i$ tenha sido aberto.\n",
        "\n",
        "Sendo a variável $y_i$ uma variável binária que indica a abertura do nó $i$, temos a formulação a seguir:"
      ],
      "metadata": {
        "id": "5aR9gPAcUOOg"
      }
    },
    {
      "cell_type": "markdown",
      "source": [
        "\\begin{eqnarray}\n",
        "\\label{of-tpl} \\mbox{Minimize} \\ & Q(x,y) = \\sum\\limits_{i \\in I} \\sum\\limits_{j \\in J}c_{ij} x_{ij}  + \\sum_{i \\in I}f_i y_i                 & \\\\\n",
        "\\nonumber \\mbox{ Sujeito a:}\n",
        "        &                                   & \\\\\n",
        "\\label{r1-tpl} &  \\sum\\limits_{i \\in I} x_{ij} >= d_i   & \\forall \\quad j \\in J \\\\\n",
        "\\label{r2-tpl} &  \\sum\\limits_{j \\in J} x_{ij} <= o_i y_i   & \\forall \\quad i \\in I \\\\\n",
        "\\label{r3-tpl} &  x_{ij}  \\geq 0,  &\\forall \\quad i \\in I, j \\in J \\\\\n",
        "\\label{r4-tpl} &  y_{i}  \\in \\{0,1\\},  &\\forall \\quad i \\in I\n",
        "\\end{eqnarray}\n"
      ],
      "metadata": {
        "id": "D1SBG7vOVIQB"
      }
    },
    {
      "cell_type": "code",
      "source": [
        "# Instância\n",
        "I = [1,2,3,4,5]\n",
        "J = [1,2,3,4,5]\n",
        "c = [ [30, 20, 24, 18, 31],\n",
        "      [12, 36, 30, 24,23],\n",
        "      [8, 15, 25, 20, 17],\n",
        "     [18, 5, 15, 30, 13],\n",
        "     [7, 25, 15, 10, 27]]\n",
        "f = [100,120, 90, 150, 130]\n",
        "d = [5, 8, 4, 10, 16]\n",
        "o = [20,20,20,20,20]"
      ],
      "metadata": {
        "id": "OshuPiJpVlkb"
      },
      "execution_count": null,
      "outputs": []
    },
    {
      "cell_type": "code",
      "source": [
        "# Criação do objeto modelo\n",
        "modelo  = grb.Model('transporte-loc')\n",
        "\n",
        "\n",
        "#criação de variáveis\n",
        "x = {} # x é um dicionário\n",
        "for i in I:\n",
        "  for j in J:\n",
        "    x[i,j] = modelo.addVar(name = f'x[{i},{j}]',vtype= grb.GRB.CONTINUOUS, lb=0)\n",
        "\n",
        "# DEFINA A VARIÁVEL y DO TIPO grb.GRB.BINARY\n",
        "y = {}\n",
        "for i in I:\n",
        "    y[i] = modelo.addVar(name = f'y[{i}]',vtype= grb.GRB.BINARY)\n",
        "\n",
        "#atualização do modelo\n",
        "modelo.update()\n",
        "\n",
        "#Restrições\n",
        "for j in J:\n",
        "  modelo.addConstr(grb.quicksum(x[i,j] for i in I) >= d[j-1])\n",
        "\n",
        "#Restrições\n",
        "for i in I:\n",
        "  modelo.addConstr(grb.quicksum(x[i,j] for j in J) <= o[i-1]*y[i]) # ALTERE A RESTRIÇÃO DE OFERTA\n",
        "\n",
        "#objetivo\n",
        "Qx = grb.quicksum(c[i-1][j-1]*x[i,j] for i in I for j in J)\n",
        "Q = Qx + grb.quicksum(f[i-1] * y[i] for i in I)  # ALTERE A FUNÇÃO OBJETIVO\n",
        "\n",
        "modelo.setObjective(Q, sense=grb.GRB.MINIMIZE)\n",
        "\n",
        "#execução\n",
        "modelo.optimize()\n",
        "\n",
        "#resultado\n",
        "for i in I:\n",
        "  if y[i].x>0.001:\n",
        "    print(f\"y[{i}]={y[i].x}\")\n",
        "  for j in J:\n",
        "    if x[i,j].x>0.001:\n",
        "      print(f\"\\t x[{i},{j}]={x[i,j].x}\")\n"
      ],
      "metadata": {
        "id": "S4jM3TVOV1RC",
        "colab": {
          "base_uri": "https://localhost:8080/"
        },
        "outputId": "c38c0a12-7334-4885-c58f-5dbb91b0dd33"
      },
      "execution_count": null,
      "outputs": [
        {
          "output_type": "stream",
          "name": "stdout",
          "text": [
            "Gurobi Optimizer version 11.0.0 build v11.0.0rc2 (linux64 - \"Ubuntu 22.04.3 LTS\")\n",
            "\n",
            "CPU model: Intel(R) Xeon(R) CPU @ 2.20GHz, instruction set [SSE2|AVX|AVX2]\n",
            "Thread count: 1 physical cores, 2 logical processors, using up to 2 threads\n",
            "\n",
            "Optimize a model with 10 rows, 30 columns and 55 nonzeros\n",
            "Model fingerprint: 0xe6211bf7\n",
            "Variable types: 25 continuous, 5 integer (5 binary)\n",
            "Coefficient statistics:\n",
            "  Matrix range     [1e+00, 2e+01]\n",
            "  Objective range  [5e+00, 2e+02]\n",
            "  Bounds range     [1e+00, 1e+00]\n",
            "  RHS range        [4e+00, 2e+01]\n",
            "Presolve time: 0.00s\n",
            "Presolved: 10 rows, 30 columns, 55 nonzeros\n",
            "Variable types: 25 continuous, 5 integer (5 binary)\n",
            "Found heuristic solution: objective 829.0000000\n",
            "\n",
            "Root relaxation: objective 7.455000e+02, 11 iterations, 0.00 seconds (0.00 work units)\n",
            "\n",
            "    Nodes    |    Current Node    |     Objective Bounds      |     Work\n",
            " Expl Unexpl |  Obj  Depth IntInf | Incumbent    BestBd   Gap | It/Node Time\n",
            "\n",
            "     0     0  745.50000    0    2  829.00000  745.50000  10.1%     -    0s\n",
            "     0     0     cutoff    0       829.00000  829.00000  0.00%     -    0s\n",
            "\n",
            "Explored 1 nodes (13 simplex iterations) in 0.03 seconds (0.00 work units)\n",
            "Thread count was 2 (of 2 available processors)\n",
            "\n",
            "Solution count 1: 829 \n",
            "\n",
            "Optimal solution found (tolerance 1.00e-04)\n",
            "Best objective 8.290000000000e+02, best bound 8.290000000000e+02, gap 0.0000%\n",
            "y[3]=1.0\n",
            "\t x[3,5]=4.0\n",
            "y[4]=1.0\n",
            "\t x[4,2]=8.0\n",
            "\t x[4,5]=12.0\n",
            "y[5]=1.0\n",
            "\t x[5,1]=5.0\n",
            "\t x[5,3]=4.0\n",
            "\t x[5,4]=10.0\n"
          ]
        }
      ]
    },
    {
      "cell_type": "markdown",
      "source": [
        "Faça:\n",
        "\n",
        "\n",
        "1.   [2 pontos] Crie uma nova variável no modelo.\n",
        "2.   [2 pontos] Altere a restrição de oferta.\n",
        "3. [2 pontos] Altere a função objetivo.\n",
        "4. [2 pontos] Execute o modelo e responda: Quais origens foram abertas?\n",
        "5. [2 pontos] Qual é o valor da função objetivo?"
      ],
      "metadata": {
        "id": "NYf4kEK_W8QC"
      }
    },
    {
      "cell_type": "markdown",
      "source": [
        "#Questão 3\n",
        "\n",
        "O *Product Owner - PO* de uma empresa de *software* necessita atender uma demanda urgente de um produto que já estava em produção. Para tanto, ele elaborou o *backlog* que contém 6 atividades que podem ser realizadas de forma independente e paralelas antes do teste de *software*.  Devido à elevada rotatividade de programadores, o PO deverá montar, novamente, seu time de desenvolvedores (Devs) para atender a demanda. O PO pode selecionar sua equipe dentro de um conjunto de 5 Devs que possuem seus próprios custos e disponibilidades conforme a Tabela 1. Adicionalmente, por terem competências diferentes, os Devs são capazes de desenvolver as atividades em tempos diferentes, conforme a Tabela 2. Considerando o objetivo de minimizar o custo de atendimento à demanda, a disponibilidade dos Devs e a necessidade de realizar todas as atividades, faça o que se pede."
      ],
      "metadata": {
        "id": "TyMNOlB8rvNt"
      }
    },
    {
      "cell_type": "markdown",
      "source": [
        "Tabela 1:\n",
        "\\begin{array}{|c|} \\hline\n",
        "Dev & Disp. (h) & Custo (\\$/h)  \\\\ \\hline\n",
        "D_1 & 6 & 7 \\\\\n",
        "D_2 & 8 & 7  \\\\\n",
        "D_3 & 12 & 12 \\\\\n",
        "D_4 & 4 & 5  \\\\\n",
        "D_5 & 9 & 5  \\\\\n",
        "\\hline\n",
        "\\end{array}\n",
        "\n",
        "Tabela 2:\n",
        "\\begin{array}{|c|} \\hline\n",
        "Dev& A_1 & A_2 & A_3 & A_4 & A_5 & A_6\\\\\\hline\n",
        "D_1  & 2 & 2 & 3 & 5 & 1 & 2\\\\\n",
        "D_2  & 3 & 2 & 2 & 4 & 1 & 3 \\\\\n",
        "D_3 &1 &1 &1 &2 &1 &1\\\\\n",
        "D_4 &3 &2 &1 &4 &1 &2\\\\\n",
        "D_5 &4 &4 &4 &6 &2 &3 \\\\\\hline\n",
        "\\end{array}"
      ],
      "metadata": {
        "id": "cZqPhnm4svk5"
      }
    },
    {
      "cell_type": "markdown",
      "source": [
        "Formulação Matemática:\n",
        "\n",
        "\n",
        "\\begin{eqnarray}\n",
        "\\label{p-med-of} & \\mbox{Minimize} \\hspace{0.15cm}\n",
        "        Q(x) = \\sum_{d \\in D}\\sum_{a \\in A}c_{ad}x_{ad} & &\\\\\n",
        "        \\nonumber & \\mbox{Sujeito a:} &    \\\\\n",
        "\\label{p-med-r1} & \\sum_{d \\in D} x_{ad} = 1 & \\forall  a \\in A  \\\\\n",
        "\\label{p-med-r3} & \\sum_{a \\in A} x_{ad} \\leq H_d & \\forall  d \\in D  \\\\\n",
        "\\label{p-med-r4} & x_{ad} \\in \\{0,1\\} & \\forall  d \\in D, \\forall  a \\in A \\\\\n",
        "\\end{eqnarray}\n"
      ],
      "metadata": {
        "id": "vyPwn8ySsQ3E"
      }
    },
    {
      "cell_type": "markdown",
      "source": [
        "Faça:\n",
        "\n",
        "\n",
        "1.   [3 pontos] Implemente o problema utilizando o gurobipy.\n",
        "2.   [3 pontos] Inclua os dados da instância e execute o problema.\n",
        "3. [2 pontos] Responda: Quais atividades serão realizadas por cada dev?\n",
        "4. [2 pontos] Qual é o valor da função objetivo?"
      ],
      "metadata": {
        "id": "odOUjrIZZcvm"
      }
    },
    {
      "cell_type": "code",
      "source": [
        "#implemente aqui!!\n",
        "DISP = [6,8,12,4,9] #DISPONIBILIDADE\n",
        "Custo = [7,7,12,5,5] #CUSTO\n",
        "Tempo = [ #TEMPO DE APLICAÇÃO\n",
        "    [2,2,3,5,1,2],\n",
        "    [3,2,2,4,1,3],\n",
        "    [1,1,1,2,1,1],\n",
        "    [3,2,1,4,1,2],\n",
        "    [4,4,4,6,2,3]\n",
        "]\n",
        "D = [1,2,3,4,5] #DEVS\n",
        "A = [1,2,3,4,5,6] #ATIVIDADES\n",
        "\n",
        "\n",
        "modelo = grb.Model('Atividade_DEVS')\n",
        "\n",
        "#DEFINIÇÃO DE VARIAVEIS\n",
        "x = {}\n",
        "for d in D:\n",
        "    for a in A:\n",
        "        x[d, a] = modelo.addVar(name=f'x[{d},{a}]', vtype=grb.GRB.BINARY)\n",
        "\n",
        "#FUNÇÃO OBJETIVO\n",
        "Q = grb.quicksum(Custo[D.index(d)] * Tempo[D.index(d)][A.index(a)] * x[d, a] for d in D for a in A)\n",
        "\n",
        "\n",
        "#RESTRIÇÃO\n",
        "for a in A:\n",
        "    modelo.addConstr(grb.quicksum(x[d, a] for d in D) == 1)\n",
        "\n",
        "for d in D:\n",
        "    modelo.addConstr(grb.quicksum(x[d, a] * Tempo[D.index(d)][A.index(a)] for a in A) <= DISP[D.index(d)])\n",
        "\n",
        "\n",
        "modelo.setObjective(Q, sense=grb.GRB.MINIMIZE)\n",
        "\n",
        "modelo.optimize()\n",
        "\n",
        "for d in D:\n",
        "    for a in A:\n",
        "        if x[d, a].x > 0.001:\n",
        "            print(f\"DEV: \\t{d} ===> ATIVIDADE: {a}\")\n"
      ],
      "metadata": {
        "id": "ODiSlJzZaKU2",
        "colab": {
          "base_uri": "https://localhost:8080/"
        },
        "outputId": "f2e4f770-5524-4d61-e916-4b1a65009f5c"
      },
      "execution_count": 23,
      "outputs": [
        {
          "output_type": "stream",
          "name": "stdout",
          "text": [
            "Gurobi Optimizer version 11.0.0 build v11.0.0rc2 (linux64 - \"Ubuntu 22.04.3 LTS\")\n",
            "\n",
            "CPU model: Intel(R) Xeon(R) CPU @ 2.20GHz, instruction set [SSE2|AVX|AVX2]\n",
            "Thread count: 1 physical cores, 2 logical processors, using up to 2 threads\n",
            "\n",
            "Optimize a model with 11 rows, 30 columns and 60 nonzeros\n",
            "Model fingerprint: 0xf91df546\n",
            "Variable types: 0 continuous, 30 integer (30 binary)\n",
            "Coefficient statistics:\n",
            "  Matrix range     [1e+00, 6e+00]\n",
            "  Objective range  [5e+00, 4e+01]\n",
            "  Bounds range     [1e+00, 1e+00]\n",
            "  RHS range        [1e+00, 1e+01]\n",
            "Found heuristic solution: objective 100.0000000\n",
            "Presolve removed 11 rows and 30 columns\n",
            "Presolve time: 0.00s\n",
            "Presolve: All rows and columns removed\n",
            "\n",
            "Explored 0 nodes (0 simplex iterations) in 0.01 seconds (0.00 work units)\n",
            "Thread count was 1 (of 2 available processors)\n",
            "\n",
            "Solution count 2: 68 100 \n",
            "\n",
            "Optimal solution found (tolerance 1.00e-04)\n",
            "Best objective 6.800000000000e+01, best bound 6.800000000000e+01, gap 0.0000%\n",
            "DEV: \t3 ===> ATIVIDADE: 1\n",
            "DEV: \t3 ===> ATIVIDADE: 4\n",
            "DEV: \t3 ===> ATIVIDADE: 6\n",
            "DEV: \t4 ===> ATIVIDADE: 2\n",
            "DEV: \t4 ===> ATIVIDADE: 3\n",
            "DEV: \t4 ===> ATIVIDADE: 5\n"
          ]
        }
      ]
    }
  ]
}